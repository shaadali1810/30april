{
 "cells": [
  {
   "cell_type": "code",
   "execution_count": 1,
   "id": "6b31b204-94b1-4a81-86a7-cc0e2b84fa22",
   "metadata": {},
   "outputs": [],
   "source": [
    "#1 A clustering result sat- isfies homogeneity if all of its clusters contain only data points which are members of a single class. A clustering result satisfies completeness if all the data points that are members of a given class are elements of the same cluster."
   ]
  },
  {
   "cell_type": "code",
   "execution_count": 2,
   "id": "e14d60cb-b1d5-4869-bfed-aed00f2f66ed",
   "metadata": {},
   "outputs": [],
   "source": [
    "#2V- measure provides an elegant solution to many problems that affect previously de- fined cluster evaluation measures includ- ing 1) dependence on clustering algorithm or data set, 2) the “problem of matching”, where the clustering of only a portion of data points are evaluated and 3) accurate evalu- ation and ..."
   ]
  },
  {
   "cell_type": "code",
   "execution_count": 3,
   "id": "1a561205-7214-47d2-8252-61c5c865fdfb",
   "metadata": {},
   "outputs": [],
   "source": [
    "#3 The value of the silhouette coefficient is between −1 and 1. The value of a(o) reflects the compactness of the cluster to which o belongs. The smaller the value, the more compact the cluster. The value of b(o) captures the degree to which o is separated from other clusters"
   ]
  },
  {
   "cell_type": "code",
   "execution_count": 4,
   "id": "cf94c4fa-91d3-41cb-b00b-6998351d174c",
   "metadata": {},
   "outputs": [],
   "source": [
    "#4 Davies-Bouldin Index measures the size of clusters against the average distance between clusters. A lower score signifies better-defined clusters. The Davies-Bouldin Index measures the average similarity between clusters, where similarity compares the size of clusters against the between-cluster distance."
   ]
  },
  {
   "cell_type": "code",
   "execution_count": 5,
   "id": "6c59b6af-c7e2-46fa-ac53-3129537e4836",
   "metadata": {},
   "outputs": [],
   "source": [
    "#5 A clustering result satisfies homogeneity if all of its clusters contain only data points which are members of a single class. A clustering result satisfies completeness if all the data points that are members of a given class are elements of the same cluster."
   ]
  },
  {
   "cell_type": "code",
   "execution_count": 6,
   "id": "70808a3b-7f40-488e-8dcd-d1dbbf42318f",
   "metadata": {},
   "outputs": [],
   "source": [
    "#6The optimal number of clusters can be defined as follow: Compute clustering algorithm (e.g., k-means clustering) for different values of k. For instance, by varying k from 1 to 10 clusters. For each k, calculate the total within-cluster sum of square (wss).\n"
   ]
  },
  {
   "cell_type": "code",
   "execution_count": 7,
   "id": "7ee7090f-f220-43ff-98b5-b045ace2495b",
   "metadata": {},
   "outputs": [],
   "source": [
    "#7 The silhouette score is specialized for measuring cluster quality when the clusters are convex-shaped, and may not perform well if the data clusters have irregular shapes or are of varying sizes. The silhouette can be calculated with any distance metric, such as the Euclidean distance or the Manhattan distance."
   ]
  },
  {
   "cell_type": "code",
   "execution_count": 8,
   "id": "632a597a-45d6-4ac2-8c2c-a8c1c391e796",
   "metadata": {},
   "outputs": [],
   "source": [
    "#8 The Davies-Bouldin Index is sensitive to outliers and noise in the data.\n",
    "#The Davies-Bouldin Index does not take into account the structure or distribution of data, such as clusters within clusters or non-linear relationships."
   ]
  },
  {
   "cell_type": "code",
   "execution_count": null,
   "id": "895cedb0-2637-464d-86b9-68f76aa3b1e9",
   "metadata": {},
   "outputs": [],
   "source": [
    "#9"
   ]
  }
 ],
 "metadata": {
  "kernelspec": {
   "display_name": "Python 3 (ipykernel)",
   "language": "python",
   "name": "python3"
  },
  "language_info": {
   "codemirror_mode": {
    "name": "ipython",
    "version": 3
   },
   "file_extension": ".py",
   "mimetype": "text/x-python",
   "name": "python",
   "nbconvert_exporter": "python",
   "pygments_lexer": "ipython3",
   "version": "3.10.8"
  }
 },
 "nbformat": 4,
 "nbformat_minor": 5
}
